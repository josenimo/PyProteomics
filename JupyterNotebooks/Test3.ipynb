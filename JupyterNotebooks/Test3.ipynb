{
 "cells": [
  {
   "cell_type": "code",
   "execution_count": 1,
   "metadata": {},
   "outputs": [
    {
     "data": {
      "text/plain": [
       "1"
      ]
     },
     "execution_count": 1,
     "metadata": {},
     "output_type": "execute_result"
    }
   ],
   "source": [
    "import sys\n",
    "import time\n",
    "import importlib\n",
    "\n",
    "import anndata as ad\n",
    "import numpy as np\n",
    "import pandas as pd\n",
    "import scanpy as sc\n",
    "from loguru import logger\n",
    "\n",
    "sys.path.append(\"../pypro/\")\n",
    "datetime = time.strftime(\"%Y%m%d_%H%M%S\")\n",
    "logger.remove()\n",
    "logger.add(sys.stdout, format=\"<green>{time:HH:mm:ss.SS}</green> | <level>{level}</level> | {message}\")"
   ]
  },
  {
   "cell_type": "code",
   "execution_count": 2,
   "metadata": {},
   "outputs": [],
   "source": [
    "adata = ad.read_h5ad(\"../data/testdata/test3_imputation/test3_input/adata_log2_cont_filter.h5ad\")"
   ]
  },
  {
   "cell_type": "code",
   "execution_count": 3,
   "metadata": {},
   "outputs": [
    {
     "data": {
      "text/plain": [
       "AnnData object with n_obs × n_vars = 11 × 3244\n",
       "    obs: 'Slide', 'Scene', 'Number of cells', 'Area µm^2', 'name_of_class', 'calibs', '384_software_well', 'Column', '384_hardware_well', 'samples_and_wells', 'well check', '96_well'\n",
       "    var: 'Protein.Ids', 'Protein.Names', 'Genes', 'First.Protein.Description'"
      ]
     },
     "execution_count": 3,
     "metadata": {},
     "output_type": "execute_result"
    }
   ],
   "source": [
    "adata"
   ]
  },
  {
   "cell_type": "code",
   "execution_count": 4,
   "metadata": {},
   "outputs": [],
   "source": [
    "import imputation"
   ]
  },
  {
   "cell_type": "markdown",
   "metadata": {},
   "source": [
    "# Test 3.1 defaults"
   ]
  },
  {
   "cell_type": "code",
   "execution_count": 7,
   "metadata": {},
   "outputs": [
    {
     "data": {
      "text/plain": [
       "<module 'imputation' from '/Users/jnimoca/Jose_BI/3_Python_Functions/PyProteomics/JupyterNotebooks/../pypro/imputation.py'>"
      ]
     },
     "execution_count": 7,
     "metadata": {},
     "output_type": "execute_result"
    }
   ],
   "source": [
    "importlib.reload(imputation)"
   ]
  },
  {
   "cell_type": "code",
   "execution_count": 9,
   "metadata": {},
   "outputs": [
    {
     "name": "stdout",
     "output_type": "stream",
     "text": [
      "\u001b[32m20:56:20.54\u001b[0m | \u001b[1mINFO\u001b[0m | Imputation with Gaussian distribution PER PROTEIN\n",
      "\u001b[32m20:56:20.54\u001b[0m | \u001b[1mINFO\u001b[0m | Mean number of missing values per sample: 124.18 out of 3244 proteins\n",
      "\u001b[32m20:56:20.54\u001b[0m | \u001b[1mINFO\u001b[0m | Mean number of missing values per protein: 0.42 out of 11 samples\n",
      "\u001b[32m20:56:21.05\u001b[0m | \u001b[1mINFO\u001b[0m | Imputation complete\n"
     ]
    }
   ],
   "source": [
    "adata = ad.read_h5ad(\"../data/testdata/test3_imputation/test3_input/adata_log2_cont_filter.h5ad\")\n",
    "adata = imputation.gaussian(adata=adata, qc_export_path=\"../data/testdata/test3_imputation/test3_output/gaussian_qc\")"
   ]
  }
 ],
 "metadata": {
  "kernelspec": {
   "display_name": "proteomics",
   "language": "python",
   "name": "python3"
  },
  "language_info": {
   "codemirror_mode": {
    "name": "ipython",
    "version": 3
   },
   "file_extension": ".py",
   "mimetype": "text/x-python",
   "name": "python",
   "nbconvert_exporter": "python",
   "pygments_lexer": "ipython3",
   "version": "3.12.7"
  }
 },
 "nbformat": 4,
 "nbformat_minor": 2
}
