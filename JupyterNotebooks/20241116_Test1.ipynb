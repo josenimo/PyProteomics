{
 "cells": [
  {
   "cell_type": "code",
   "execution_count": 13,
   "metadata": {},
   "outputs": [],
   "source": [
    "import os, sys, time, loguru\n",
    "import numpy as np\n",
    "sys.path.append(\"../pypro/\")\n",
    "import helper\n",
    "import importlib"
   ]
  },
  {
   "cell_type": "code",
   "execution_count": null,
   "metadata": {},
   "outputs": [],
   "source": [
    "from loguru import logger"
   ]
  },
  {
   "cell_type": "code",
   "execution_count": null,
   "metadata": {},
   "outputs": [],
   "source": [
    "logger.remove()\n",
    "logger.add(sys.stderr, level=\"INFO\")"
   ]
  },
  {
   "cell_type": "code",
   "execution_count": null,
   "metadata": {},
   "outputs": [],
   "source": []
  },
  {
   "cell_type": "code",
   "execution_count": 16,
   "metadata": {},
   "outputs": [
    {
     "name": "stdout",
     "output_type": "stream",
     "text": [
      "\u001b[32m16:39:55.48\u001b[0m | \u001b[1mINFO\u001b[0m | DIANN_to_adata function started (v2.0)\n"
     ]
    },
    {
     "name": "stdout",
     "output_type": "stream",
     "text": [
      "Step 1: Loading DIANN output file\n",
      "Step 2: Loading metadata file\n",
      "Step 3: Loading protein metadata\n",
      "For a total of 3858 proteins \n",
      "\n",
      "Step 4: Creating anndata object:\n",
      "AnnData object with n_obs × n_vars = 11 × 3858\n",
      "    obs: 'Slide', 'Scene', 'Number of cells', 'Area µm^2', 'name_of_class', 'calibs', '384_software_well', 'Column', '384_hardware_well', 'samples_and_wells', 'well check', '96_well'\n",
      "    var: 'Protein.Ids', 'Protein.Names', 'Genes', 'First.Protein.Description'\n",
      "\n",
      "\n"
     ]
    }
   ],
   "source": [
    "importlib.reload(helper)\n",
    "adata = helper.DIANN_to_adata(\n",
    "    DIANN_path = \"../data/testdata/test1_DIANN_to_ADATA/test_1_input/report.pg_matrix.tsv\",\n",
    "    metadata_path = \"../data/testdata/test1_DIANN_to_ADATA/test_1_input/metadata.csv\",\n",
    ")"
   ]
  },
  {
   "cell_type": "code",
   "execution_count": 11,
   "metadata": {},
   "outputs": [
    {
     "data": {
      "text/plain": [
       "AnnData object with n_obs × n_vars = 11 × 3858\n",
       "    obs: 'Slide', 'Scene', 'Number of cells', 'Area µm^2', 'name_of_class', 'calibs', '384_software_well', 'Column', '384_hardware_well', 'samples_and_wells', 'well check', '96_well'\n",
       "    var: 'Protein.Ids', 'Protein.Names', 'Genes', 'First.Protein.Description'"
      ]
     },
     "execution_count": 11,
     "metadata": {},
     "output_type": "execute_result"
    }
   ],
   "source": [
    "adata"
   ]
  }
 ],
 "metadata": {
  "kernelspec": {
   "display_name": "proteomics",
   "language": "python",
   "name": "python3"
  },
  "language_info": {
   "codemirror_mode": {
    "name": "ipython",
    "version": 3
   },
   "file_extension": ".py",
   "mimetype": "text/x-python",
   "name": "python",
   "nbconvert_exporter": "python",
   "pygments_lexer": "ipython3",
   "version": "3.12.7"
  }
 },
 "nbformat": 4,
 "nbformat_minor": 2
}
