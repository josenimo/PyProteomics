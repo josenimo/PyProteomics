{
 "cells": [
  {
   "cell_type": "code",
   "execution_count": 43,
   "metadata": {},
   "outputs": [
    {
     "data": {
      "text/plain": [
       "5"
      ]
     },
     "execution_count": 43,
     "metadata": {},
     "output_type": "execute_result"
    }
   ],
   "source": [
    "import sys\n",
    "import time\n",
    "import importlib\n",
    "\n",
    "import anndata as ad\n",
    "import numpy as np\n",
    "import pandas as pd\n",
    "import scanpy as sc\n",
    "from loguru import logger\n",
    "import matplotlib.pyplot as plt\n",
    "\n",
    "sys.path.append(\"../src/pyproteomics/\")\n",
    "datetime = time.strftime(\"%Y%m%d_%H%M%S\")\n",
    "logger.remove()\n",
    "logger.add(sys.stdout, format=\"<green>{time:HH:mm:ss.SS}</green> | <level>{level}</level> | {message}\")"
   ]
  },
  {
   "cell_type": "code",
   "execution_count": 4,
   "metadata": {},
   "outputs": [],
   "source": [
    "import imputation"
   ]
  },
  {
   "cell_type": "markdown",
   "metadata": {},
   "source": [
    "# Test 3.1 defaults"
   ]
  },
  {
   "cell_type": "code",
   "execution_count": 6,
   "metadata": {},
   "outputs": [
    {
     "name": "stdout",
     "output_type": "stream",
     "text": [
      "\u001b[32m15:20:07.72\u001b[0m | \u001b[1mINFO\u001b[0m | Starting imputation with Gaussian distribution version 2.0.0\n",
      "\u001b[32m15:20:07.72\u001b[0m | \u001b[1mINFO\u001b[0m | Imputation with Gaussian distribution PER PROTEIN\n",
      "\u001b[32m15:20:07.73\u001b[0m | \u001b[1mINFO\u001b[0m | Mean number of missing values per sample: 124.18 out of 3244 proteins\n",
      "\u001b[32m15:20:07.73\u001b[0m | \u001b[1mINFO\u001b[0m | Mean number of missing values per protein: 0.42 out of 11 samples\n",
      "\u001b[32m15:20:08.22\u001b[0m | \u001b[1mINFO\u001b[0m | Number of missing values after imputation: 0\n",
      "\u001b[32m15:20:08.23\u001b[0m | \u001b[1mINFO\u001b[0m | Imputation complete\n"
     ]
    }
   ],
   "source": [
    "adata = ad.read_h5ad(\"../data/testdata/test3_imputation/test3_input/adata_log2_cont_filter.h5ad\")\n",
    "adata = imputation.gaussian(adata=adata, qc_export_path=\"../data/testdata/test3_imputation/test3_output/gaussian_qc\")\n",
    "adata.write(\"../data/testdata/test3_imputation/test3_output/gaussian.h5ad\")"
   ]
  },
  {
   "cell_type": "markdown",
   "metadata": {},
   "source": [
    "## Test 3.2 another dataset"
   ]
  },
  {
   "cell_type": "code",
   "execution_count": 7,
   "metadata": {},
   "outputs": [],
   "source": [
    "import helper"
   ]
  },
  {
   "cell_type": "code",
   "execution_count": 93,
   "metadata": {},
   "outputs": [
    {
     "name": "stdout",
     "output_type": "stream",
     "text": [
      "\u001b[32m17:13:01.72\u001b[0m | \u001b[1mINFO\u001b[0m | DIANN_to_adata function started (v2.0)\n",
      "\u001b[32m17:13:01.73\u001b[0m | \u001b[1mINFO\u001b[0m | Step 1: Loading DIANN output file\n",
      "\n",
      "\u001b[32m17:13:01.86\u001b[0m | \u001b[1mINFO\u001b[0m | Step 2: Loading metadata file\n",
      "\u001b[32m17:13:01.86\u001b[0m | \u001b[1mINFO\u001b[0m | Step 3: Loading protein metadata\n",
      "\u001b[32m17:13:01.86\u001b[0m | \u001b[1mINFO\u001b[0m | For a total of 7030 proteins \n",
      "\n",
      "\u001b[32m17:13:01.86\u001b[0m | \u001b[1mINFO\u001b[0m | Step 4: Creating anndata object:\n",
      "AnnData object with n_obs × n_vars = 248 × 7030\n",
      "    obs: 'File.Name', 'Precursors.Identified', 'Proteins.Identified', 'Total.Quantity', 'MS1.Signal', 'MS2.Signal', 'FWHM.Scans', 'FWHM.RT', 'Median.Mass.Acc.MS1', 'Median.Mass.Acc.MS1.Corrected', 'Median.Mass.Acc.MS2', 'Median.Mass.Acc.MS2.Corrected', 'MS2.Mass.Instability', 'Normalisation.Instability', 'Median.RT.Prediction.Acc', 'Average.Peptide.Length', 'Average.Peptide.Charge', 'Average.Missed.Tryptic.Cleavages', 'filename', 'Machine', 'Date', 'User_id', 'LC', 'Acquisition', 'Exp_id', 'Plate_384wp_id', '384wp_well_real', 'Vial', 'Vol_injected', '96wp_well', '96wp_id', 'Biopsy_type', 'RCN', 'RCN_long', 'replicate', 'class_name'\n",
      "    var: 'Protein.Names', 'Genes', 'First.Protein.Description'\n",
      "\n",
      "\n"
     ]
    }
   ],
   "source": [
    "path_to_DIANN = \"../tests/data/20241211_DIANN.pg_matrix.tsv\" \n",
    "path_to_DIANN_metadata = \"../tests/data/20241217_DIANN_metadata.csv\"\n",
    "\n",
    "adata = helper.DIANN_to_adata(\n",
    "    DIANN_path = path_to_DIANN,\n",
    "    metadata_path = path_to_DIANN_metadata,\n",
    "    metadata_sep = \";\",\n",
    "    sample_id_column = \"LCMS_run_id\")"
   ]
  },
  {
   "cell_type": "code",
   "execution_count": 102,
   "metadata": {},
   "outputs": [
    {
     "data": {
      "text/plain": [
       "<module 'filtering' from '/Users/jnimoca/Jose_BI/3_Python_Functions/PyProteomics/JupyterNotebooks/../src/pyproteomics/filtering.py'>"
      ]
     },
     "execution_count": 102,
     "metadata": {},
     "output_type": "execute_result"
    }
   ],
   "source": [
    "import importlib\n",
    "importlib.reload(filtering)"
   ]
  },
  {
   "cell_type": "code",
   "execution_count": 101,
   "metadata": {},
   "outputs": [],
   "source": [
    "import filtering"
   ]
  },
  {
   "cell_type": "code",
   "execution_count": 103,
   "metadata": {},
   "outputs": [
    {
     "name": "stdout",
     "output_type": "stream",
     "text": [
      "\u001b[32m17:16:34.87\u001b[0m | \u001b[1mINFO\u001b[0m | Filtering proteins, they need to have 70.0% valid values to be kept\n",
      "\u001b[32m17:16:34.88\u001b[0m | \u001b[1mINFO\u001b[0m | No grouping variable was provided\n",
      "\u001b[32m17:16:34.89\u001b[0m | \u001b[34m\u001b[1mDEBUG\u001b[0m | adata has 248 samples and 7030 proteins\n",
      "3969 proteins were kept\n",
      "3061 proteins were filtered out\n"
     ]
    }
   ],
   "source": [
    "adata_filtered = filtering.filter_invalid_proteins(adata)"
   ]
  },
  {
   "cell_type": "code",
   "execution_count": 104,
   "metadata": {},
   "outputs": [
    {
     "name": "stdout",
     "output_type": "stream",
     "text": [
      "\u001b[32m17:16:52.03\u001b[0m | \u001b[1mINFO\u001b[0m | Starting imputation with Gaussian distribution version 2.0.0\n",
      "\u001b[32m17:16:52.04\u001b[0m | \u001b[1mINFO\u001b[0m | Imputation with Gaussian distribution PER PROTEIN\n",
      "\u001b[32m17:16:52.04\u001b[0m | \u001b[1mINFO\u001b[0m | Mean number of missing values per sample: 295.48 out of 3969 proteins\n",
      "\u001b[32m17:16:52.04\u001b[0m | \u001b[1mINFO\u001b[0m | Mean number of missing values per protein: 18.46 out of 248 samples\n",
      "\u001b[32m17:16:52.64\u001b[0m | \u001b[1mINFO\u001b[0m | Number of missing values after imputation: 0\n",
      "\u001b[32m17:16:52.64\u001b[0m | \u001b[1mINFO\u001b[0m | Imputation complete\n"
     ]
    }
   ],
   "source": [
    "adata_imputed = imputation.gaussian(adata=adata_filtered, qc_export_path=\"../data/testdata/test3_imputation/test3_output/gaussian_qc_DIANN.csv\")"
   ]
  },
  {
   "cell_type": "code",
   "execution_count": null,
   "metadata": {},
   "outputs": [],
   "source": [
    "# Very Weird for some reason this works with first dataset but not with the second\n",
    "# log transform does not change anything.."
   ]
  },
  {
   "cell_type": "code",
   "execution_count": null,
   "metadata": {},
   "outputs": [],
   "source": [
    "#explore what is happening with the second dataset one line at a time"
   ]
  },
  {
   "cell_type": "code",
   "execution_count": 12,
   "metadata": {},
   "outputs": [
    {
     "name": "stdout",
     "output_type": "stream",
     "text": [
      "\u001b[32m15:23:35.89\u001b[0m | \u001b[1mINFO\u001b[0m | DIANN_to_adata function started (v2.0)\n",
      "\u001b[32m15:23:35.89\u001b[0m | \u001b[1mINFO\u001b[0m | Step 1: Loading DIANN output file\n",
      "\n",
      "\u001b[32m15:23:36.00\u001b[0m | \u001b[1mINFO\u001b[0m | Step 2: Loading metadata file\n",
      "\u001b[32m15:23:36.01\u001b[0m | \u001b[1mINFO\u001b[0m | Step 3: Loading protein metadata\n",
      "\u001b[32m15:23:36.01\u001b[0m | \u001b[1mINFO\u001b[0m | For a total of 7030 proteins \n",
      "\n",
      "\u001b[32m15:23:36.01\u001b[0m | \u001b[1mINFO\u001b[0m | Step 4: Creating anndata object:\n",
      "AnnData object with n_obs × n_vars = 248 × 7030\n",
      "    obs: 'File.Name', 'Precursors.Identified', 'Proteins.Identified', 'Total.Quantity', 'MS1.Signal', 'MS2.Signal', 'FWHM.Scans', 'FWHM.RT', 'Median.Mass.Acc.MS1', 'Median.Mass.Acc.MS1.Corrected', 'Median.Mass.Acc.MS2', 'Median.Mass.Acc.MS2.Corrected', 'MS2.Mass.Instability', 'Normalisation.Instability', 'Median.RT.Prediction.Acc', 'Average.Peptide.Length', 'Average.Peptide.Charge', 'Average.Missed.Tryptic.Cleavages', 'filename', 'Machine', 'Date', 'User_id', 'LC', 'Acquisition', 'Exp_id', 'Plate_384wp_id', '384wp_well_real', 'Vial', 'Vol_injected', '96wp_well', '96wp_id', 'Biopsy_type', 'RCN', 'RCN_long', 'replicate', 'class_name'\n",
      "    var: 'Protein.Names', 'Genes', 'First.Protein.Description'\n",
      "\n",
      "\n"
     ]
    }
   ],
   "source": [
    "path_to_DIANN = \"../tests/data/20241211_DIANN.pg_matrix.tsv\" \n",
    "path_to_DIANN_metadata = \"../tests/data/20241217_DIANN_metadata.csv\"\n",
    "\n",
    "adata = helper.DIANN_to_adata(\n",
    "    DIANN_path = path_to_DIANN,\n",
    "    metadata_path = path_to_DIANN_metadata,\n",
    "    metadata_sep = \";\",\n",
    "    sample_id_column = \"LCMS_run_id\")"
   ]
  },
  {
   "cell_type": "code",
   "execution_count": 19,
   "metadata": {},
   "outputs": [],
   "source": [
    "mean_shift=-1.8\n",
    "std_dev_shift=0.3\n",
    "perSample=False\n",
    "qc_export_path=None"
   ]
  },
  {
   "cell_type": "code",
   "execution_count": 13,
   "metadata": {},
   "outputs": [],
   "source": [
    "adata_copy = adata.copy()"
   ]
  },
  {
   "cell_type": "code",
   "execution_count": 14,
   "metadata": {},
   "outputs": [],
   "source": [
    "df = pd.DataFrame(data = adata_copy.X, columns = adata_copy.var.index, index = adata_copy.obs_names)"
   ]
  },
  {
   "cell_type": "code",
   "execution_count": 15,
   "metadata": {},
   "outputs": [],
   "source": [
    "df_raw = df.copy()"
   ]
  },
  {
   "cell_type": "code",
   "execution_count": 16,
   "metadata": {},
   "outputs": [
    {
     "name": "stdout",
     "output_type": "stream",
     "text": [
      "\u001b[32m15:27:25.37\u001b[0m | \u001b[1mINFO\u001b[0m | Mean number of missing values per sample: 2461.54 out of 7030 proteins\n",
      "\u001b[32m15:27:25.38\u001b[0m | \u001b[1mINFO\u001b[0m | Mean number of missing values per protein: 86.84 out of 248 samples\n"
     ]
    }
   ],
   "source": [
    "logger.info(f'Mean number of missing values per sample: {round(df.isnull().sum(axis=1).mean(),2)} out of {df.shape[1]} proteins')\n",
    "logger.info(f'Mean number of missing values per protein: {round(df.isnull().sum(axis=0).mean(),2)} out of {df.shape[0]} samples')"
   ]
  },
  {
   "cell_type": "code",
   "execution_count": 47,
   "metadata": {},
   "outputs": [
    {
     "name": "stdout",
     "output_type": "stream",
     "text": [
      "12510.139532163745\n",
      "6419.098738863471\n",
      "77\n",
      "-1.8\n"
     ]
    }
   ],
   "source": [
    "print(col_mean)\n",
    "print(col_std)\n",
    "print(num_nans)\n",
    "print(mean_shift)"
   ]
  },
  {
   "cell_type": "code",
   "execution_count": 52,
   "metadata": {},
   "outputs": [
    {
     "data": {
      "image/png": "[encoded data removed]",
      "text/plain": [
       "<Figure size 640x480 with 1 Axes>"
      ]
     },
     "metadata": {},
     "output_type": "display_data"
    }
   ],
   "source": [
    "# Generate random values\n",
    "random_values = np.random.normal(loc=(col_mean+(col_std*mean_shift)), scale=(col_std*0.3), size=num_nans)\n",
    "plt.hist(random_values, bins=25)\n",
    "plt.show()"
   ]
  },
  {
   "cell_type": "code",
   "execution_count": null,
   "metadata": {},
   "outputs": [],
   "source": [
    "# so, at least for the first column we have found out that the math works out.\n",
    "# however, we discovered that if the standard coefficient of variation is high enough the random values generated can be negative (this is not possible for protein values)\n",
    "# we still need to figure out how is it that we still have NaNs in our datasets after the imputation, negative values are not NaNs"
   ]
  },
  {
   "cell_type": "code",
   "execution_count": null,
   "metadata": {},
   "outputs": [],
   "source": [
    "# let's run it until we hit NaNs post imputation, and check that column"
   ]
  },
  {
   "cell_type": "code",
   "execution_count": 77,
   "metadata": {},
   "outputs": [
    {
     "name": "stdout",
     "output_type": "stream",
     "text": [
      "\u001b[32m17:04:14.79\u001b[0m | \u001b[1mINFO\u001b[0m | DIANN_to_adata function started (v2.0)\n",
      "\u001b[32m17:04:14.79\u001b[0m | \u001b[1mINFO\u001b[0m | Step 1: Loading DIANN output file\n",
      "\n",
      "\u001b[32m17:04:14.91\u001b[0m | \u001b[1mINFO\u001b[0m | Step 2: Loading metadata file\n",
      "\u001b[32m17:04:14.91\u001b[0m | \u001b[1mINFO\u001b[0m | Step 3: Loading protein metadata\n",
      "\u001b[32m17:04:14.91\u001b[0m | \u001b[1mINFO\u001b[0m | For a total of 7030 proteins \n",
      "\n",
      "\u001b[32m17:04:14.91\u001b[0m | \u001b[1mINFO\u001b[0m | Step 4: Creating anndata object:\n",
      "AnnData object with n_obs × n_vars = 248 × 7030\n",
      "    obs: 'File.Name', 'Precursors.Identified', 'Proteins.Identified', 'Total.Quantity', 'MS1.Signal', 'MS2.Signal', 'FWHM.Scans', 'FWHM.RT', 'Median.Mass.Acc.MS1', 'Median.Mass.Acc.MS1.Corrected', 'Median.Mass.Acc.MS2', 'Median.Mass.Acc.MS2.Corrected', 'MS2.Mass.Instability', 'Normalisation.Instability', 'Median.RT.Prediction.Acc', 'Average.Peptide.Length', 'Average.Peptide.Charge', 'Average.Missed.Tryptic.Cleavages', 'filename', 'Machine', 'Date', 'User_id', 'LC', 'Acquisition', 'Exp_id', 'Plate_384wp_id', '384wp_well_real', 'Vial', 'Vol_injected', '96wp_well', '96wp_id', 'Biopsy_type', 'RCN', 'RCN_long', 'replicate', 'class_name'\n",
      "    var: 'Protein.Names', 'Genes', 'First.Protein.Description'\n",
      "\n",
      "\n"
     ]
    }
   ],
   "source": [
    "path_to_DIANN = \"../tests/data/20241211_DIANN.pg_matrix.tsv\" \n",
    "path_to_DIANN_metadata = \"../tests/data/20241217_DIANN_metadata.csv\"\n",
    "\n",
    "adata = helper.DIANN_to_adata(\n",
    "    DIANN_path = path_to_DIANN,\n",
    "    metadata_path = path_to_DIANN_metadata,\n",
    "    metadata_sep = \";\",\n",
    "    sample_id_column = \"LCMS_run_id\")\n",
    "\n"
   ]
  },
  {
   "cell_type": "code",
   "execution_count": null,
   "metadata": {},
   "outputs": [
    {
     "data": {
      "text/plain": [
       "np.int64(20748)"
      ]
     },
     "execution_count": 78,
     "metadata": {},
     "output_type": "execute_result"
    }
   ],
   "source": [
    "adata_copy = adata.copy()\n",
    "df = pd.DataFrame(data = adata_copy.X, columns = adata_copy.var.index, index = adata_copy.obs_names)\n",
    "\n",
    "# Iterate over each column in the DataFrame\n",
    "for col in df.columns:\n",
    "    \n",
    "\n",
    "    # Calculate the mean and standard deviation for the column (protein values)\n",
    "    col_mean = df[col].mean(skipna=True)\n",
    "    col_stddev = df[col].std(skipna=True)\n",
    "    # Identify NaN positions in the column\n",
    "    nan_mask = df[col].isnull()\n",
    "    num_nans = nan_mask.sum() \n",
    "    # Generate random values from a normal distribution       \n",
    "    shifted_random_values = np.random.normal(\n",
    "        loc=(col_mean + (mean_shift * col_stddev)), \n",
    "        scale=(col_stddev * std_dev_shift), \n",
    "        size=num_nans)\n",
    "    \n",
    "    #check if any value in array is NaN\n",
    "    if np.nan in shifted_random_values:\n",
    "        print(\"NaNs in random values\")\n",
    "        print(col)\n",
    "        \n",
    "    # Replace NaNs in the column with the generated random values\n",
    "    df.loc[nan_mask, col] = shifted_random_values\n",
    "\n",
    "\n",
    "df.isnull().sum().sum()"
   ]
  },
  {
   "cell_type": "code",
   "execution_count": 79,
   "metadata": {},
   "outputs": [
    {
     "data": {
      "text/html": [
       "<div>\n",
       "<style scoped>\n",
       "    .dataframe tbody tr th:only-of-type {\n",
       "        vertical-align: middle;\n",
       "    }\n",
       "\n",
       "    .dataframe tbody tr th {\n",
       "        vertical-align: top;\n",
       "    }\n",
       "\n",
       "    .dataframe thead th {\n",
       "        text-align: right;\n",
       "    }\n",
       "</style>\n",
       "<table border=\"1\" class=\"dataframe\">\n",
       "  <thead>\n",
       "    <tr style=\"text-align: right;\">\n",
       "      <th>Protein.Group</th>\n",
       "      <th>A0A024R1R8;Q9Y2S6</th>\n",
       "      <th>A0A075B6I0</th>\n",
       "      <th>A0A075B6K4</th>\n",
       "      <th>A0A075B6K5</th>\n",
       "      <th>A0A075B6P5;P01615</th>\n",
       "      <th>A0A075B6Q5</th>\n",
       "      <th>A0A075B6R9;A0A0C4DH68</th>\n",
       "      <th>A0A075B6S2</th>\n",
       "      <th>A0A075B6S5;A0A0C4DH67;A0A0C4DH69</th>\n",
       "      <th>A0A075B7B8</th>\n",
       "      <th>...</th>\n",
       "      <th>Q9Y6R4</th>\n",
       "      <th>Q9Y6R7</th>\n",
       "      <th>Q9Y6U3</th>\n",
       "      <th>Q9Y6V7</th>\n",
       "      <th>Q9Y6W3</th>\n",
       "      <th>Q9Y6W5</th>\n",
       "      <th>Q9Y6X3</th>\n",
       "      <th>Q9Y6X5</th>\n",
       "      <th>Q9Y6X9</th>\n",
       "      <th>Q9Y6Y8</th>\n",
       "    </tr>\n",
       "    <tr>\n",
       "      <th>LCMS_run_id</th>\n",
       "      <th></th>\n",
       "      <th></th>\n",
       "      <th></th>\n",
       "      <th></th>\n",
       "      <th></th>\n",
       "      <th></th>\n",
       "      <th></th>\n",
       "      <th></th>\n",
       "      <th></th>\n",
       "      <th></th>\n",
       "      <th></th>\n",
       "      <th></th>\n",
       "      <th></th>\n",
       "      <th></th>\n",
       "      <th></th>\n",
       "      <th></th>\n",
       "      <th></th>\n",
       "      <th></th>\n",
       "      <th></th>\n",
       "      <th></th>\n",
       "      <th></th>\n",
       "    </tr>\n",
       "  </thead>\n",
       "  <tbody>\n",
       "    <tr>\n",
       "      <th>8550</th>\n",
       "      <td>13364.200000</td>\n",
       "      <td>-8377.187474</td>\n",
       "      <td>-8679.979589</td>\n",
       "      <td>83429.3</td>\n",
       "      <td>65607.7</td>\n",
       "      <td>-12714.570992</td>\n",
       "      <td>-2463.612444</td>\n",
       "      <td>126706.0</td>\n",
       "      <td>125688.0</td>\n",
       "      <td>-20340.904402</td>\n",
       "      <td>...</td>\n",
       "      <td>3004.199050</td>\n",
       "      <td>12835.700000</td>\n",
       "      <td>-1764.524334</td>\n",
       "      <td>4181.150969</td>\n",
       "      <td>5441.480000</td>\n",
       "      <td>39037.8</td>\n",
       "      <td>3575.000000</td>\n",
       "      <td>4217.99</td>\n",
       "      <td>2955.021280</td>\n",
       "      <td>19015.900000</td>\n",
       "    </tr>\n",
       "    <tr>\n",
       "      <th>8549</th>\n",
       "      <td>16060.400000</td>\n",
       "      <td>24121.100000</td>\n",
       "      <td>-9124.624057</td>\n",
       "      <td>106445.0</td>\n",
       "      <td>133782.0</td>\n",
       "      <td>7522.780000</td>\n",
       "      <td>22015.500000</td>\n",
       "      <td>302754.0</td>\n",
       "      <td>98833.9</td>\n",
       "      <td>82698.100000</td>\n",
       "      <td>...</td>\n",
       "      <td>2720.922732</td>\n",
       "      <td>23327.600000</td>\n",
       "      <td>2110.776139</td>\n",
       "      <td>3433.062691</td>\n",
       "      <td>2488.009664</td>\n",
       "      <td>29610.7</td>\n",
       "      <td>3709.380000</td>\n",
       "      <td>4550.10</td>\n",
       "      <td>4548.597174</td>\n",
       "      <td>17180.600000</td>\n",
       "    </tr>\n",
       "    <tr>\n",
       "      <th>8559</th>\n",
       "      <td>1176.746423</td>\n",
       "      <td>-17882.886516</td>\n",
       "      <td>-15831.656135</td>\n",
       "      <td>35072.0</td>\n",
       "      <td>74421.8</td>\n",
       "      <td>-15899.570155</td>\n",
       "      <td>-10588.567260</td>\n",
       "      <td>115321.0</td>\n",
       "      <td>23076.0</td>\n",
       "      <td>26153.300000</td>\n",
       "      <td>...</td>\n",
       "      <td>2775.730756</td>\n",
       "      <td>-21000.129011</td>\n",
       "      <td>-1981.267115</td>\n",
       "      <td>3015.142354</td>\n",
       "      <td>2112.591857</td>\n",
       "      <td>29842.7</td>\n",
       "      <td>1825.689572</td>\n",
       "      <td>4276.24</td>\n",
       "      <td>2421.147665</td>\n",
       "      <td>-3249.802466</td>\n",
       "    </tr>\n",
       "    <tr>\n",
       "      <th>8617</th>\n",
       "      <td>26018.900000</td>\n",
       "      <td>13639.500000</td>\n",
       "      <td>-7055.933439</td>\n",
       "      <td>28348.2</td>\n",
       "      <td>30827.8</td>\n",
       "      <td>-13613.685774</td>\n",
       "      <td>-7117.393945</td>\n",
       "      <td>94934.1</td>\n",
       "      <td>13716.3</td>\n",
       "      <td>-23516.006592</td>\n",
       "      <td>...</td>\n",
       "      <td>4287.520000</td>\n",
       "      <td>-21856.680393</td>\n",
       "      <td>-3959.896560</td>\n",
       "      <td>6972.380000</td>\n",
       "      <td>7723.390000</td>\n",
       "      <td>58269.8</td>\n",
       "      <td>6740.150000</td>\n",
       "      <td>5478.59</td>\n",
       "      <td>2980.077099</td>\n",
       "      <td>18701.400000</td>\n",
       "    </tr>\n",
       "    <tr>\n",
       "      <th>8555</th>\n",
       "      <td>1150.724957</td>\n",
       "      <td>93004.400000</td>\n",
       "      <td>27039.000000</td>\n",
       "      <td>85028.4</td>\n",
       "      <td>76597.0</td>\n",
       "      <td>-7121.611841</td>\n",
       "      <td>17081.700000</td>\n",
       "      <td>155076.0</td>\n",
       "      <td>32218.1</td>\n",
       "      <td>-29645.305352</td>\n",
       "      <td>...</td>\n",
       "      <td>2911.026659</td>\n",
       "      <td>14641.500000</td>\n",
       "      <td>22480.800000</td>\n",
       "      <td>2612.840511</td>\n",
       "      <td>6987.340000</td>\n",
       "      <td>39377.1</td>\n",
       "      <td>7190.470000</td>\n",
       "      <td>4031.86</td>\n",
       "      <td>2064.878389</td>\n",
       "      <td>16759.500000</td>\n",
       "    </tr>\n",
       "  </tbody>\n",
       "</table>\n",
       "<p>5 rows × 7030 columns</p>\n",
       "</div>"
      ],
      "text/plain": [
       "Protein.Group  A0A024R1R8;Q9Y2S6    A0A075B6I0    A0A075B6K4  A0A075B6K5  \\\n",
       "LCMS_run_id                                                                \n",
       "8550                13364.200000  -8377.187474  -8679.979589     83429.3   \n",
       "8549                16060.400000  24121.100000  -9124.624057    106445.0   \n",
       "8559                 1176.746423 -17882.886516 -15831.656135     35072.0   \n",
       "8617                26018.900000  13639.500000  -7055.933439     28348.2   \n",
       "8555                 1150.724957  93004.400000  27039.000000     85028.4   \n",
       "\n",
       "Protein.Group  A0A075B6P5;P01615    A0A075B6Q5  A0A075B6R9;A0A0C4DH68  \\\n",
       "LCMS_run_id                                                             \n",
       "8550                     65607.7 -12714.570992           -2463.612444   \n",
       "8549                    133782.0   7522.780000           22015.500000   \n",
       "8559                     74421.8 -15899.570155          -10588.567260   \n",
       "8617                     30827.8 -13613.685774           -7117.393945   \n",
       "8555                     76597.0  -7121.611841           17081.700000   \n",
       "\n",
       "Protein.Group  A0A075B6S2  A0A075B6S5;A0A0C4DH67;A0A0C4DH69    A0A075B7B8  \\\n",
       "LCMS_run_id                                                                 \n",
       "8550             126706.0                          125688.0 -20340.904402   \n",
       "8549             302754.0                           98833.9  82698.100000   \n",
       "8559             115321.0                           23076.0  26153.300000   \n",
       "8617              94934.1                           13716.3 -23516.006592   \n",
       "8555             155076.0                           32218.1 -29645.305352   \n",
       "\n",
       "Protein.Group  ...       Q9Y6R4        Q9Y6R7        Q9Y6U3       Q9Y6V7  \\\n",
       "LCMS_run_id    ...                                                         \n",
       "8550           ...  3004.199050  12835.700000  -1764.524334  4181.150969   \n",
       "8549           ...  2720.922732  23327.600000   2110.776139  3433.062691   \n",
       "8559           ...  2775.730756 -21000.129011  -1981.267115  3015.142354   \n",
       "8617           ...  4287.520000 -21856.680393  -3959.896560  6972.380000   \n",
       "8555           ...  2911.026659  14641.500000  22480.800000  2612.840511   \n",
       "\n",
       "Protein.Group       Q9Y6W3   Q9Y6W5       Q9Y6X3   Q9Y6X5       Q9Y6X9  \\\n",
       "LCMS_run_id                                                              \n",
       "8550           5441.480000  39037.8  3575.000000  4217.99  2955.021280   \n",
       "8549           2488.009664  29610.7  3709.380000  4550.10  4548.597174   \n",
       "8559           2112.591857  29842.7  1825.689572  4276.24  2421.147665   \n",
       "8617           7723.390000  58269.8  6740.150000  5478.59  2980.077099   \n",
       "8555           6987.340000  39377.1  7190.470000  4031.86  2064.878389   \n",
       "\n",
       "Protein.Group        Q9Y6Y8  \n",
       "LCMS_run_id                  \n",
       "8550           19015.900000  \n",
       "8549           17180.600000  \n",
       "8559           -3249.802466  \n",
       "8617           18701.400000  \n",
       "8555           16759.500000  \n",
       "\n",
       "[5 rows x 7030 columns]"
      ]
     },
     "execution_count": 79,
     "metadata": {},
     "output_type": "execute_result"
    }
   ],
   "source": [
    "df.head()"
   ]
  },
  {
   "cell_type": "code",
   "execution_count": 80,
   "metadata": {},
   "outputs": [
    {
     "data": {
      "text/plain": [
       "LCMS_run_id\n",
       "8550   NaN\n",
       "8549   NaN\n",
       "8559   NaN\n",
       "8617   NaN\n",
       "8555   NaN\n",
       "        ..\n",
       "8455   NaN\n",
       "8454   NaN\n",
       "8453   NaN\n",
       "8452   NaN\n",
       "8451   NaN\n",
       "Name: A0A1B0GUV8, Length: 248, dtype: float64"
      ]
     },
     "execution_count": 80,
     "metadata": {},
     "output_type": "execute_result"
    }
   ],
   "source": [
    "df['A0A1B0GUV8']"
   ]
  },
  {
   "cell_type": "code",
   "execution_count": null,
   "metadata": {},
   "outputs": [],
   "source": [
    "index"
   ]
  },
  {
   "cell_type": "code",
   "execution_count": 74,
   "metadata": {},
   "outputs": [
    {
     "data": {
      "text/plain": [
       "np.int64(20748)"
      ]
     },
     "execution_count": 74,
     "metadata": {},
     "output_type": "execute_result"
    }
   ],
   "source": [
    "#what happens if only one value in imputation available, no mean can be calculated, no stddev can be calculated, no random values can be generated"
   ]
  },
  {
   "cell_type": "code",
   "execution_count": null,
   "metadata": {},
   "outputs": [],
   "source": [
    "df"
   ]
  },
  {
   "cell_type": "code",
   "execution_count": 82,
   "metadata": {},
   "outputs": [],
   "source": [
    "adata_copy = adata.copy()\n",
    "df = pd.DataFrame(data = adata_copy.X, columns = adata_copy.var.index, index = adata_copy.obs_names)"
   ]
  },
  {
   "cell_type": "code",
   "execution_count": 87,
   "metadata": {},
   "outputs": [
    {
     "data": {
      "text/plain": [
       "np.float64(0.9959677419354839)"
      ]
     },
     "execution_count": 87,
     "metadata": {},
     "output_type": "execute_result"
    }
   ],
   "source": [
    "np.isnan(df['A0A1B0GUV8']).sum() / df['A0A1B0GUV8'].shape[0]"
   ]
  },
  {
   "cell_type": "code",
   "execution_count": 88,
   "metadata": {},
   "outputs": [
    {
     "data": {
      "text/plain": [
       "np.int64(1)"
      ]
     },
     "execution_count": 88,
     "metadata": {},
     "output_type": "execute_result"
    }
   ],
   "source": [
    "#how many non nan values do we have in the column\n",
    "df['A0A1B0GUV8'].notnull().sum()"
   ]
  },
  {
   "cell_type": "code",
   "execution_count": 89,
   "metadata": {},
   "outputs": [
    {
     "data": {
      "text/plain": [
       "np.float64(51649.8)"
      ]
     },
     "execution_count": 89,
     "metadata": {},
     "output_type": "execute_result"
    }
   ],
   "source": [
    "df['A0A1B0GUV8'].mean()"
   ]
  },
  {
   "cell_type": "code",
   "execution_count": 90,
   "metadata": {},
   "outputs": [
    {
     "name": "stdout",
     "output_type": "stream",
     "text": [
      "51649.8\n",
      "nan\n"
     ]
    }
   ],
   "source": [
    "# Iterate over each column in the DataFrame\n",
    "col = 'A0A1B0GUV8'\n",
    "\n",
    "# Calculate the mean and standard deviation for the column (protein values)\n",
    "col_mean = df[col].mean(skipna=True)\n",
    "print(col_mean)\n",
    "col_stddev = df[col].std(skipna=True)\n",
    "print(col_stddev)"
   ]
  },
  {
   "cell_type": "code",
   "execution_count": null,
   "metadata": {},
   "outputs": [],
   "source": [
    "# Identify NaN positions in the column\n",
    "nan_mask = df[col].isnull()\n",
    "num_nans = nan_mask.sum()"
   ]
  },
  {
   "cell_type": "code",
   "execution_count": 92,
   "metadata": {},
   "outputs": [
    {
     "data": {
      "text/plain": [
       "nan"
      ]
     },
     "execution_count": 92,
     "metadata": {},
     "output_type": "execute_result"
    }
   ],
   "source": [
    "50 * np.nan"
   ]
  },
  {
   "cell_type": "code",
   "execution_count": null,
   "metadata": {},
   "outputs": [],
   "source": [
    "# the issue is that when the data only has a single value, the standard deviation is NaN, and then the random values are NaN....\n",
    "# I wonder if these issues are gone with filtering... "
   ]
  },
  {
   "cell_type": "code",
   "execution_count": null,
   "metadata": {},
   "outputs": [],
   "source": [
    "\n",
    "# Generate random values from a normal distribution       \n",
    "shifted_random_values = np.random.normal(\n",
    "    loc=(col_mean + (mean_shift * col_stddev)), \n",
    "    scale=(col_stddev * std_dev_shift), \n",
    "    size=num_nans)\n",
    "    \n",
    "# Replace NaNs in the column with the generated random values\n",
    "df.loc[nan_mask, col] = shifted_random_values\n",
    "\n",
    "df.isnull().sum().sum()"
   ]
  },
  {
   "cell_type": "code",
   "execution_count": null,
   "metadata": {},
   "outputs": [],
   "source": []
  }
 ],
 "metadata": {
  "kernelspec": {
   "display_name": "proteomics",
   "language": "python",
   "name": "python3"
  },
  "language_info": {
   "codemirror_mode": {
    "name": "ipython",
    "version": 3
   },
   "file_extension": ".py",
   "mimetype": "text/x-python",
   "name": "python",
   "nbconvert_exporter": "python",
   "pygments_lexer": "ipython3",
   "version": "3.12.7"
  }
 },
 "nbformat": 4,
 "nbformat_minor": 2
}
