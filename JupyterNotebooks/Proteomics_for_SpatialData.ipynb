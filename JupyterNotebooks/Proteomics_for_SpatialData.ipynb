{
 "cells": [
  {
   "cell_type": "markdown",
   "metadata": {},
   "source": [
    "# Processing Proteomics for Spatial Data"
   ]
  },
  {
   "cell_type": "code",
   "execution_count": 3,
   "metadata": {},
   "outputs": [],
   "source": [
    "# imports\n",
    "import os\n",
    "import sys\n",
    "import time\n",
    "import pandas as pd\n",
    "import numpy as np\n",
    "import tabulate\n",
    "import anndata as ad\n",
    "import scanpy as sc\n",
    "\n",
    "sys.path.append(\"../pypro/\")"
   ]
  },
  {
   "cell_type": "code",
   "execution_count": 5,
   "metadata": {},
   "outputs": [],
   "source": [
    "import helper\n",
    "from loguru import logger\n",
    "import filtering\n",
    "import imputation"
   ]
  },
  {
   "cell_type": "code",
   "execution_count": null,
   "metadata": {},
   "outputs": [
    {
     "name": "stdout",
     "output_type": "stream",
     "text": [
      "\u001b[32m20:51:27.43\u001b[0m | \u001b[1mINFO\u001b[0m | DIANN_to_adata function started (v2.0)\n",
      "\u001b[32m20:51:27.43\u001b[0m | \u001b[1mINFO\u001b[0m | Step 1: Loading DIANN output file\n",
      "\u001b[32m20:51:27.44\u001b[0m | \u001b[1mINFO\u001b[0m | Step 2: Loading metadata file\n",
      "\u001b[32m20:51:27.45\u001b[0m | \u001b[1mINFO\u001b[0m | Step 3: Loading protein metadata\n",
      "\u001b[32m20:51:27.45\u001b[0m | \u001b[1mINFO\u001b[0m | For a total of 3858 proteins \n",
      "\n",
      "\u001b[32m20:51:27.45\u001b[0m | \u001b[1mINFO\u001b[0m | Step 4: Creating anndata object:\n",
      "AnnData object with n_obs × n_vars = 11 × 3858\n",
      "    obs: 'Slide', 'Scene', 'Number of cells', 'Area µm^2', 'name_of_class', 'calibs', '384_software_well', 'Column', '384_hardware_well', 'samples_and_wells', 'well check', '96_well'\n",
      "    var: 'Protein.Ids', 'Protein.Names', 'Genes', 'First.Protein.Description'\n",
      "\n",
      "\n",
      "\u001b[32m20:51:27.45\u001b[0m | \u001b[1mINFO\u001b[0m | Filtering out contaminants\n",
      "The output object has 3684 proteins in it\n",
      "\n",
      "\n",
      "\u001b[32m20:51:27.45\u001b[0m | \u001b[1mINFO\u001b[0m | Filtering proteins, they need to have 70.0% valid values to be kept\n",
      "\u001b[32m20:51:27.46\u001b[0m | \u001b[1mINFO\u001b[0m | No grouping variable was provided\n",
      "\u001b[32m20:51:27.46\u001b[0m | \u001b[34m\u001b[1mDEBUG\u001b[0m | adata has 11 samples and 3684 proteins\n",
      "3244 proteins were kept\n",
      "440 proteins were filtered out\n"
     ]
    }
   ],
   "source": [
    "adata = helper.DIANN_to_adata(\n",
    "    DIANN_path='../data/testdata/test1_DIANN_to_ADATA/test1_input/report.pg_matrix.tsv',\n",
    "    metadata_path='../data/testdata/test1_DIANN_to_ADATA/test1_input/metadata.csv',\n",
    "    sample_id_column='Name')\n",
    "\n",
    "adata.X = np.log2(adata.X)\n",
    "adata = filtering.filter_out_contaminants(adata)\n",
    "adata = filtering.filter_invalid_proteins(adata, threshold=0.7)"
   ]
  },
  {
   "cell_type": "code",
   "execution_count": 11,
   "metadata": {},
   "outputs": [],
   "source": [
    "adata.write(\"../data/testdata/test3_imputation/test3_input/adata_log2_cont_filter.h5ad\")"
   ]
  }
 ],
 "metadata": {
  "kernelspec": {
   "display_name": "proteomics",
   "language": "python",
   "name": "python3"
  },
  "language_info": {
   "codemirror_mode": {
    "name": "ipython",
    "version": 3
   },
   "file_extension": ".py",
   "mimetype": "text/x-python",
   "name": "python",
   "nbconvert_exporter": "python",
   "pygments_lexer": "ipython3",
   "version": "3.12.7"
  }
 },
 "nbformat": 4,
 "nbformat_minor": 2
}
